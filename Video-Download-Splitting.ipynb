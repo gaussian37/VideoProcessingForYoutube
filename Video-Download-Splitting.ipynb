{
 "cells": [
  {
   "cell_type": "markdown",
   "metadata": {},
   "source": [
    "texteffect를 사용하기 위해서는 ImageMagick 을 설치한 다음에 `moviepy`에 있는 `config_default.spy`에 `ImageMagic`의 `Convert.exe`가 저장된 위치를 설정해 주어야 한다.\n",
    "\n",
    "예) IMAGEMAGICK_BINARY = r\"C:\\Program Files\\ImageMagick-7.0.8-Q16\\convert.exe\"\n",
    "\n",
    "참조 : https://github.com/Zulko/moviepy/issues/378"
   ]
  },
  {
   "cell_type": "code",
   "execution_count": 1,
   "metadata": {},
   "outputs": [],
   "source": [
    "from moviepy.editor import VideoFileClip\n",
    "from moviepy.video.io.ffmpeg_tools import ffmpeg_extract_subclip\n",
    "from moviepy.video.fx.all import fadein, fadeout\n",
    "from moviepy.video.fx.all import speedx\n",
    "import numpy as np\n",
    "from texteffect import *\n",
    "from ipywidgets import widgets, interact\n",
    "from IPython.display import display"
   ]
  },
  {
   "cell_type": "code",
   "execution_count": 2,
   "metadata": {},
   "outputs": [],
   "source": [
    "startHour, startMin, startSec = 0, 0, 0\n",
    "endHour, endMin, endSec = 0, 0, 0\n",
    "Title = \"\"\n",
    "\n",
    "titleText = widgets.Text(description = \"Title\")\n",
    "\n",
    "def startHourHandler(start_hour):\n",
    "    global startHour\n",
    "    startHour = start_hour\n",
    "    \n",
    "def startMinHandler(start_min):\n",
    "    global startMin\n",
    "    startMin = start_min\n",
    "    \n",
    "def startSecHandler(start_sec):\n",
    "    global startSec\n",
    "    startSec = start_sec\n",
    "    \n",
    "def endHourHandler(end_hour):\n",
    "    global endHour\n",
    "    endHour = end_hour\n",
    "    \n",
    "def endMinHandler(end_min):\n",
    "    global endMin\n",
    "    endMin = end_min\n",
    "    \n",
    "def endSecHandler(end_sec):\n",
    "    global endSec\n",
    "    endSec = end_sec   \n",
    "    \n",
    "def titleHandler(sender):\n",
    "    global Title\n",
    "    Title = titleText.value"
   ]
  },
  {
   "cell_type": "markdown",
   "metadata": {},
   "source": [
    "### Input"
   ]
  },
  {
   "cell_type": "code",
   "execution_count": 3,
   "metadata": {},
   "outputs": [
    {
     "data": {
      "application/vnd.jupyter.widget-view+json": {
       "model_id": "f06590bca65e4c02b724e5326b80bc44",
       "version_major": 2,
       "version_minor": 0
      },
      "text/plain": [
       "interactive(children=(IntSlider(value=1, description='start_hour', max=3), Output()), _dom_classes=('widget-in…"
      ]
     },
     "metadata": {},
     "output_type": "display_data"
    },
    {
     "data": {
      "application/vnd.jupyter.widget-view+json": {
       "model_id": "00876a55243d45b9873e3ec0239929fc",
       "version_major": 2,
       "version_minor": 0
      },
      "text/plain": [
       "interactive(children=(IntSlider(value=30, description='start_min', max=60), Output()), _dom_classes=('widget-i…"
      ]
     },
     "metadata": {},
     "output_type": "display_data"
    },
    {
     "data": {
      "application/vnd.jupyter.widget-view+json": {
       "model_id": "d36e7427e4a842e39d85b52e7a3e2c27",
       "version_major": 2,
       "version_minor": 0
      },
      "text/plain": [
       "interactive(children=(IntSlider(value=30, description='start_sec', max=60), Output()), _dom_classes=('widget-i…"
      ]
     },
     "metadata": {},
     "output_type": "display_data"
    },
    {
     "data": {
      "application/vnd.jupyter.widget-view+json": {
       "model_id": "75d59e62f74b4f08b9e18b69c6c6f39c",
       "version_major": 2,
       "version_minor": 0
      },
      "text/plain": [
       "interactive(children=(IntSlider(value=1, description='end_hour', max=3), Output()), _dom_classes=('widget-inte…"
      ]
     },
     "metadata": {},
     "output_type": "display_data"
    },
    {
     "data": {
      "application/vnd.jupyter.widget-view+json": {
       "model_id": "9da8c22075914aea8db81aa075c6468b",
       "version_major": 2,
       "version_minor": 0
      },
      "text/plain": [
       "interactive(children=(IntSlider(value=30, description='end_min', max=60), Output()), _dom_classes=('widget-int…"
      ]
     },
     "metadata": {},
     "output_type": "display_data"
    },
    {
     "data": {
      "application/vnd.jupyter.widget-view+json": {
       "model_id": "5249fe3df94448f0b66be82b37c6ea40",
       "version_major": 2,
       "version_minor": 0
      },
      "text/plain": [
       "interactive(children=(IntSlider(value=30, description='end_sec', max=60), Output()), _dom_classes=('widget-int…"
      ]
     },
     "metadata": {},
     "output_type": "display_data"
    },
    {
     "data": {
      "text/plain": [
       "<function __main__.endSecHandler(end_sec)>"
      ]
     },
     "execution_count": 3,
     "metadata": {},
     "output_type": "execute_result"
    }
   ],
   "source": [
    "interact(startHourHandler, start_hour = (0, 3))\n",
    "interact(startMinHandler, start_min = (0, 60))\n",
    "interact(startSecHandler, start_sec = (0, 60))\n",
    "interact(endHourHandler, end_hour = (0, 3))\n",
    "interact(endMinHandler, end_min = (0, 60))\n",
    "interact(endSecHandler, end_sec = (0, 60))"
   ]
  },
  {
   "cell_type": "code",
   "execution_count": 7,
   "metadata": {},
   "outputs": [],
   "source": [
    "Title = \"\""
   ]
  },
  {
   "cell_type": "code",
   "execution_count": 8,
   "metadata": {},
   "outputs": [
    {
     "name": "stdout",
     "output_type": "stream",
     "text": [
      "Start time of Hour :  0 , Min :  11 , Sec :  0\n",
      "End time of Hour :  0 , Min :  15 , Sec :  37\n",
      "277 sec\n"
     ]
    }
   ],
   "source": [
    "start_time = startHour*60*60 + startMin*60 + startSec\n",
    "end_time = endHour*60*60 + endMin*60 + endSec\n",
    "fadein_time = 3\n",
    "fadeout_time = 3\n",
    "speed_factor = 1.0\n",
    "resize_factor = 1.0\n",
    "\n",
    "print(\"Start time of Hour : \", startHour, \", Min : \", startMin, \", Sec : \", startSec)\n",
    "print(\"End time of Hour : \", endHour, \", Min : \", endMin, \", Sec : \", endSec)\n",
    "print(end_time - start_time, \"sec\")"
   ]
  },
  {
   "cell_type": "markdown",
   "metadata": {},
   "source": [
    "### Output"
   ]
  },
  {
   "cell_type": "code",
   "execution_count": 9,
   "metadata": {},
   "outputs": [
    {
     "name": "stdout",
     "output_type": "stream",
     "text": [
      "[MoviePy] >>>> Building video TROUBLE DUE TO PIPED PIPER NAME.mp4\n",
      "[MoviePy] Writing audio in TROUBLE DUE TO PIPED PIPER NAMETEMP_MPY_wvf_snd.mp3\n"
     ]
    },
    {
     "name": "stderr",
     "output_type": "stream",
     "text": [
      "100%|█████████████████████████████████████████████████████████████| 6219/6219 [00:06<00:00, 1016.96it/s]\n"
     ]
    },
    {
     "name": "stdout",
     "output_type": "stream",
     "text": [
      "[MoviePy] Done.\n",
      "[MoviePy] Writing video TROUBLE DUE TO PIPED PIPER NAME.mp4\n"
     ]
    },
    {
     "name": "stderr",
     "output_type": "stream",
     "text": [
      "100%|███████████████████████████████████████████████████████████████| 8452/8452 [02:14<00:00, 62.72it/s]\n"
     ]
    },
    {
     "name": "stdout",
     "output_type": "stream",
     "text": [
      "[MoviePy] Done.\n",
      "[MoviePy] >>>> Video ready: TROUBLE DUE TO PIPED PIPER NAME.mp4 \n",
      "\n"
     ]
    }
   ],
   "source": [
    "clip = VideoFileClip(\".mp4\").subclip(start_time, end_time)\n",
    "resized_clip = clip.resize(resize_factor)\n",
    "fadein_clip = fadein(resized_clip, fadein_time)\n",
    "fadeinout_clip = fadeout(fadein_clip, fadeout_time)\n",
    "speed_clip = speedx(fadeinout_clip, factor=speed_factor)\n",
    "\n",
    "title_clip = TextEffect(text=Title, screensize = resized_clip.size).clips\n",
    "final_clip = concatenate_videoclips([title_clip, speed_clip])\n",
    "\n",
    "final_clip.write_videofile(Title.replace('\\n', ' ') + \".mp4\")"
   ]
  },
  {
   "cell_type": "code",
   "execution_count": null,
   "metadata": {},
   "outputs": [],
   "source": []
  }
 ],
 "metadata": {
  "kernelspec": {
   "display_name": "Python 3",
   "language": "python",
   "name": "python3"
  },
  "language_info": {
   "codemirror_mode": {
    "name": "ipython",
    "version": 3
   },
   "file_extension": ".py",
   "mimetype": "text/x-python",
   "name": "python",
   "nbconvert_exporter": "python",
   "pygments_lexer": "ipython3",
   "version": "3.6.6"
  },
  "latex_envs": {
   "LaTeX_envs_menu_present": true,
   "autoclose": false,
   "autocomplete": true,
   "bibliofile": "biblio.bib",
   "cite_by": "apalike",
   "current_citInitial": 1,
   "eqLabelWithNumbers": true,
   "eqNumInitial": 1,
   "hotkeys": {
    "equation": "Ctrl-E",
    "itemize": "Ctrl-I"
   },
   "labels_anchors": false,
   "latex_user_defs": false,
   "report_style_numbering": false,
   "user_envs_cfg": false
  },
  "varInspector": {
   "cols": {
    "lenName": 16,
    "lenType": 16,
    "lenVar": 40
   },
   "kernels_config": {
    "python": {
     "delete_cmd_postfix": "",
     "delete_cmd_prefix": "del ",
     "library": "var_list.py",
     "varRefreshCmd": "print(var_dic_list())"
    },
    "r": {
     "delete_cmd_postfix": ") ",
     "delete_cmd_prefix": "rm(",
     "library": "var_list.r",
     "varRefreshCmd": "cat(var_dic_list()) "
    }
   },
   "types_to_exclude": [
    "module",
    "function",
    "builtin_function_or_method",
    "instance",
    "_Feature"
   ],
   "window_display": false
  }
 },
 "nbformat": 4,
 "nbformat_minor": 2
}
