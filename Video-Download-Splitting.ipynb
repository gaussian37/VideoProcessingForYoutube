{
 "cells": [
  {
   "cell_type": "markdown",
   "metadata": {},
   "source": [
    "texteffect를 사용하기 위해서는 ImageMagick 을 설치한 다음에 `moviepy`에 있는 `config_default.spy`에 `ImageMagic`의 `Convert.exe`가 저장된 위치를 설정해 주어야 한다.\n",
    "\n",
    "예) IMAGEMAGICK_BINARY = r\"C:\\Program Files\\ImageMagick-7.0.8-Q16\\convert.exe\"\n",
    "\n",
    "참조 : https://github.com/Zulko/moviepy/issues/378"
   ]
  },
  {
   "cell_type": "code",
   "execution_count": 1,
   "metadata": {},
   "outputs": [],
   "source": [
    "from moviepy.editor import VideoFileClip\n",
    "from moviepy.video.io.ffmpeg_tools import ffmpeg_extract_subclip\n",
    "from moviepy.video.fx.all import fadein, fadeout\n",
    "from moviepy.video.fx.all import speedx\n",
    "import numpy as np\n",
    "from texteffect import *"
   ]
  },
  {
   "cell_type": "markdown",
   "metadata": {},
   "source": [
    "### Input"
   ]
  },
  {
   "cell_type": "code",
   "execution_count": 6,
   "metadata": {},
   "outputs": [],
   "source": [
    "start_time = 15*60 + 20\n",
    "end_time = 21*60 + 20\n",
    "fadein_time = 3\n",
    "fadeout_time = 3\n",
    "speed_factor = 1.11\n",
    "resize_factor = 0.8\n",
    "\n",
    "Title = \"DEATH OF L & WATARI & REM\""
   ]
  },
  {
   "cell_type": "markdown",
   "metadata": {},
   "source": [
    "### Output"
   ]
  },
  {
   "cell_type": "code",
   "execution_count": 7,
   "metadata": {},
   "outputs": [
    {
     "name": "stdout",
     "output_type": "stream",
     "text": [
      "[MoviePy] >>>> Building video DEATH OF L & WATARI & REM.mp4\n",
      "[MoviePy] Writing audio in DEATH OF L & WATARI & REMTEMP_MPY_wvf_snd.mp3\n"
     ]
    },
    {
     "name": "stderr",
     "output_type": "stream",
     "text": [
      "100%|██████████████████████████████████████████████████████████| 7262/7262 [00:12<00:00, 561.06it/s]\n"
     ]
    },
    {
     "name": "stdout",
     "output_type": "stream",
     "text": [
      "[MoviePy] Done.\n",
      "[MoviePy] Writing video DEATH OF L & WATARI & REM.mp4\n"
     ]
    },
    {
     "name": "stderr",
     "output_type": "stream",
     "text": [
      "100%|███████████████████████████████████████████████████████████| 9880/9880 [04:28<00:00, 36.82it/s]\n"
     ]
    },
    {
     "name": "stdout",
     "output_type": "stream",
     "text": [
      "[MoviePy] Done.\n",
      "[MoviePy] >>>> Video ready: DEATH OF L & WATARI & REM.mp4 \n",
      "\n"
     ]
    }
   ],
   "source": [
    "clip = VideoFileClip(\"original.mp4\").subclip(start_time, end_time)\n",
    "resized_clip = clip.resize(resize_factor)\n",
    "fadein_clip = fadein(resized_clip, fadein_time)\n",
    "fadeinout_clip = fadeout(fadein_clip, fadeout_time)\n",
    "speed_clip = speedx(fadeinout_clip, factor=speed_factor)\n",
    "\n",
    "title_clip = TextEffect(text=Title, screensize = resized_clip.size).clips\n",
    "final_clip = concatenate_videoclips([title_clip, speed_clip])\n",
    "\n",
    "final_clip.write_videofile(Title + \".mp4\")"
   ]
  },
  {
   "cell_type": "code",
   "execution_count": null,
   "metadata": {},
   "outputs": [],
   "source": []
  }
 ],
 "metadata": {
  "kernelspec": {
   "display_name": "Python 3",
   "language": "python",
   "name": "python3"
  },
  "language_info": {
   "codemirror_mode": {
    "name": "ipython",
    "version": 3
   },
   "file_extension": ".py",
   "mimetype": "text/x-python",
   "name": "python",
   "nbconvert_exporter": "python",
   "pygments_lexer": "ipython3",
   "version": "3.5.5"
  },
  "latex_envs": {
   "LaTeX_envs_menu_present": true,
   "autoclose": false,
   "autocomplete": true,
   "bibliofile": "biblio.bib",
   "cite_by": "apalike",
   "current_citInitial": 1,
   "eqLabelWithNumbers": true,
   "eqNumInitial": 1,
   "hotkeys": {
    "equation": "Ctrl-E",
    "itemize": "Ctrl-I"
   },
   "labels_anchors": false,
   "latex_user_defs": false,
   "report_style_numbering": false,
   "user_envs_cfg": false
  },
  "varInspector": {
   "cols": {
    "lenName": 16,
    "lenType": 16,
    "lenVar": 40
   },
   "kernels_config": {
    "python": {
     "delete_cmd_postfix": "",
     "delete_cmd_prefix": "del ",
     "library": "var_list.py",
     "varRefreshCmd": "print(var_dic_list())"
    },
    "r": {
     "delete_cmd_postfix": ") ",
     "delete_cmd_prefix": "rm(",
     "library": "var_list.r",
     "varRefreshCmd": "cat(var_dic_list()) "
    }
   },
   "types_to_exclude": [
    "module",
    "function",
    "builtin_function_or_method",
    "instance",
    "_Feature"
   ],
   "window_display": false
  }
 },
 "nbformat": 4,
 "nbformat_minor": 2
}
